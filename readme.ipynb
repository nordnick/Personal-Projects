{
 "cells": [
  {
   "cell_type": "markdown",
   "metadata": {},
   "source": [
    "# Personal-Projects\n",
    "\n",
    "\n",
    "This repository contains project that I have done for educational purposes in my university as well as side-projects for polishing and developing my skills. \n",
    "\n",
    "### Index\n",
    "1. Research of position of private museums in Russia (Web Scraping, Data Visualisation)\n",
    "\n",
    "### Background\n",
    "\n",
    "Hello!\n",
    "\n",
    "My name is Nikolai Baranov, welcome to my portfolio! A little bit about me. I am 3rd year undergarduate student in HSE. My major is Business Administration. During my education I realised the value of robust data analysis for business and took an interest in Data Science/Analytics in order to explore this topic further. Over the years I accumulated skill and knowledge in this field and used them for my curiosity's sake as well as for educational purposes. I am looking forward to applying my skills for real business tasks.\n",
    "\n",
    "I enjoy searching for \"ground truth\" with different methods and seek expertize, experience, mentoring and collaboration in the field of Data Science/Analysis. Although, I admit that analysis attracts me the most.\n",
    "\n",
    "### Contact me\n",
    "|Contact Method    |                     |\n",
    "|------------------|-------------------- |\n",
    "|Professional Email|nabaranovhq@gmail.com|\n",
    "|Telegram          |@nordnick            |\n",
    "|VK                |@nordnick            |"
   ]
  },
  {
   "cell_type": "code",
   "execution_count": null,
   "metadata": {},
   "outputs": [],
   "source": []
  }
 ],
 "metadata": {
  "kernelspec": {
   "display_name": "Python 3",
   "language": "python",
   "name": "python3"
  },
  "language_info": {
   "codemirror_mode": {
    "name": "ipython",
    "version": 3
   },
   "file_extension": ".py",
   "mimetype": "text/x-python",
   "name": "python",
   "nbconvert_exporter": "python",
   "pygments_lexer": "ipython3",
   "version": "3.7.3"
  }
 },
 "nbformat": 4,
 "nbformat_minor": 2
}
