{
 "cells": [
  {
   "cell_type": "code",
   "execution_count": 1,
   "metadata": {},
   "outputs": [],
   "source": [
    "import pandas as pd\n",
    "import requests\n",
    "from tqdm.auto import tqdm\n",
    "from bs4 import BeautifulSoup as bs\n",
    "import numpy as np\n",
    "import math"
   ]
  },
  {
   "cell_type": "markdown",
   "metadata": {},
   "source": [
    "# Scraping the main page\n",
    "Here we will scrape the main page with all the links and names of museums in Russia"
   ]
  },
  {
   "cell_type": "code",
   "execution_count": 3,
   "metadata": {},
   "outputs": [],
   "source": [
    "source = requests.get('http://vrm.museum.ru/').text\n",
    "soup = bs(source, 'lxml')"
   ]
  },
  {
   "cell_type": "code",
   "execution_count": 4,
   "metadata": {
    "scrolled": true
   },
   "outputs": [],
   "source": [
    "datapile = soup.find('div', class_='mlist')"
   ]
  },
  {
   "cell_type": "code",
   "execution_count": 5,
   "metadata": {},
   "outputs": [],
   "source": [
    "columns = ['VRM_link', 'name', 'address', 'dates', 'budget_status', 'org_type', 'class', 'area', 'employees', 'visitors',\n",
    "           'sponsors', 'storage']"
   ]
  },
  {
   "cell_type": "code",
   "execution_count": 6,
   "metadata": {
    "scrolled": true
   },
   "outputs": [
    {
     "data": {
      "text/html": [
       "<div>\n",
       "<style scoped>\n",
       "    .dataframe tbody tr th:only-of-type {\n",
       "        vertical-align: middle;\n",
       "    }\n",
       "\n",
       "    .dataframe tbody tr th {\n",
       "        vertical-align: top;\n",
       "    }\n",
       "\n",
       "    .dataframe thead th {\n",
       "        text-align: right;\n",
       "    }\n",
       "</style>\n",
       "<table border=\"1\" class=\"dataframe\">\n",
       "  <thead>\n",
       "    <tr style=\"text-align: right;\">\n",
       "      <th></th>\n",
       "      <th>VRM_link</th>\n",
       "      <th>name</th>\n",
       "      <th>address</th>\n",
       "      <th>dates</th>\n",
       "      <th>budget_status</th>\n",
       "      <th>org_type</th>\n",
       "      <th>class</th>\n",
       "      <th>area</th>\n",
       "      <th>employees</th>\n",
       "      <th>visitors</th>\n",
       "      <th>sponsors</th>\n",
       "      <th>storage</th>\n",
       "    </tr>\n",
       "  </thead>\n",
       "  <tbody>\n",
       "    <tr>\n",
       "      <th>3024</th>\n",
       "      <td>http://www.museum.ru/M2326</td>\n",
       "      <td>Ярославский музей боевой славы</td>\n",
       "      <td>NaN</td>\n",
       "      <td>NaN</td>\n",
       "      <td>NaN</td>\n",
       "      <td>NaN</td>\n",
       "      <td>NaN</td>\n",
       "      <td>NaN</td>\n",
       "      <td>NaN</td>\n",
       "      <td>NaN</td>\n",
       "      <td>NaN</td>\n",
       "      <td>NaN</td>\n",
       "    </tr>\n",
       "    <tr>\n",
       "      <th>3025</th>\n",
       "      <td>http://www.museum.ru/M1592</td>\n",
       "      <td>Ярославский художественный музей</td>\n",
       "      <td>NaN</td>\n",
       "      <td>NaN</td>\n",
       "      <td>NaN</td>\n",
       "      <td>NaN</td>\n",
       "      <td>NaN</td>\n",
       "      <td>NaN</td>\n",
       "      <td>NaN</td>\n",
       "      <td>NaN</td>\n",
       "      <td>NaN</td>\n",
       "      <td>NaN</td>\n",
       "    </tr>\n",
       "    <tr>\n",
       "      <th>3026</th>\n",
       "      <td>http://www.museum.ru/M3010</td>\n",
       "      <td>Ярский историко-краеведческий музей</td>\n",
       "      <td>NaN</td>\n",
       "      <td>NaN</td>\n",
       "      <td>NaN</td>\n",
       "      <td>NaN</td>\n",
       "      <td>NaN</td>\n",
       "      <td>NaN</td>\n",
       "      <td>NaN</td>\n",
       "      <td>NaN</td>\n",
       "      <td>NaN</td>\n",
       "      <td>NaN</td>\n",
       "    </tr>\n",
       "    <tr>\n",
       "      <th>3027</th>\n",
       "      <td>http://www.museum.ru/M724</td>\n",
       "      <td>Ярцевский историко-краеведческий музей</td>\n",
       "      <td>NaN</td>\n",
       "      <td>NaN</td>\n",
       "      <td>NaN</td>\n",
       "      <td>NaN</td>\n",
       "      <td>NaN</td>\n",
       "      <td>NaN</td>\n",
       "      <td>NaN</td>\n",
       "      <td>NaN</td>\n",
       "      <td>NaN</td>\n",
       "      <td>NaN</td>\n",
       "    </tr>\n",
       "    <tr>\n",
       "      <th>3028</th>\n",
       "      <td>http://www.museum.ru/M601</td>\n",
       "      <td>Ясногорский художественно-краеведческий музей</td>\n",
       "      <td>NaN</td>\n",
       "      <td>NaN</td>\n",
       "      <td>NaN</td>\n",
       "      <td>NaN</td>\n",
       "      <td>NaN</td>\n",
       "      <td>NaN</td>\n",
       "      <td>NaN</td>\n",
       "      <td>NaN</td>\n",
       "      <td>NaN</td>\n",
       "      <td>NaN</td>\n",
       "    </tr>\n",
       "  </tbody>\n",
       "</table>\n",
       "</div>"
      ],
      "text/plain": [
       "                        VRM_link  \\\n",
       "3024  http://www.museum.ru/M2326   \n",
       "3025  http://www.museum.ru/M1592   \n",
       "3026  http://www.museum.ru/M3010   \n",
       "3027   http://www.museum.ru/M724   \n",
       "3028   http://www.museum.ru/M601   \n",
       "\n",
       "                                               name address dates  \\\n",
       "3024                 Ярославский музей боевой славы     NaN   NaN   \n",
       "3025               Ярославский художественный музей     NaN   NaN   \n",
       "3026            Ярский историко-краеведческий музей     NaN   NaN   \n",
       "3027         Ярцевский историко-краеведческий музей     NaN   NaN   \n",
       "3028  Ясногорский художественно-краеведческий музей     NaN   NaN   \n",
       "\n",
       "     budget_status org_type class area employees visitors sponsors storage  \n",
       "3024           NaN      NaN   NaN  NaN       NaN      NaN      NaN     NaN  \n",
       "3025           NaN      NaN   NaN  NaN       NaN      NaN      NaN     NaN  \n",
       "3026           NaN      NaN   NaN  NaN       NaN      NaN      NaN     NaN  \n",
       "3027           NaN      NaN   NaN  NaN       NaN      NaN      NaN     NaN  \n",
       "3028           NaN      NaN   NaN  NaN       NaN      NaN      NaN     NaN  "
      ]
     },
     "execution_count": 6,
     "metadata": {},
     "output_type": "execute_result"
    }
   ],
   "source": [
    "df = pd.DataFrame(columns = columns)\n",
    "df\n",
    "\n",
    "for entry in datapile.find_all('a'):\n",
    "    temp = pd.DataFrame(columns = columns, index = range(0,1)) \n",
    "    VRM_link = 'http://www.museum.ru' + entry['href']\n",
    "    name = entry.text\n",
    "    temp.iloc[0] = {'VRM_link': VRM_link, 'name': name}\n",
    "    df = df.append(temp, ignore_index=True)\n",
    "    \n",
    "df.tail()"
   ]
  },
  {
   "cell_type": "markdown",
   "metadata": {},
   "source": [
    "# Scraping each museum's page\n",
    "Here we will scrape each museum's page in the database using the dataframe (df) created on the previous stage. The database isn't well-organized in html. Therefore, we will have to resort to string analysis rather than using BeautifulSoup."
   ]
  },
  {
   "cell_type": "markdown",
   "metadata": {},
   "source": [
    "First, we'lll create a list of unique entries in the database because there's no documentation for it and we will have to explore it ourselves"
   ]
  },
  {
   "cell_type": "markdown",
   "metadata": {},
   "source": [
    "In the following cells we find and count entries available in database"
   ]
  },
  {
   "cell_type": "code",
   "execution_count": 6,
   "metadata": {},
   "outputs": [],
   "source": [
    "entries = pd.DataFrame(columns = ['entry', 'count']) #Creating an empty df for storage and counting"
   ]
  },
  {
   "cell_type": "code",
   "execution_count": 7,
   "metadata": {
    "scrolled": true
   },
   "outputs": [
    {
     "data": {
      "application/vnd.jupyter.widget-view+json": {
       "model_id": "7978e7e37a594f0ca3a1a40d7d74325f",
       "version_major": 2,
       "version_minor": 0
      },
      "text/plain": [
       "HBox(children=(IntProgress(value=0, max=3029), HTML(value='')))"
      ]
     },
     "metadata": {},
     "output_type": "display_data"
    },
    {
     "name": "stdout",
     "output_type": "stream",
     "text": [
      "\n"
     ]
    }
   ],
   "source": [
    "for j in tqdm(range (0, df.shape[0])):\n",
    "    \n",
    "    m_source = requests.get(df.iloc[j].VRM_link).text\n",
    "    m_soup = bs(m_source, 'lxml')\n",
    "    m_datapile = m_soup.find('center')\n",
    "    \n",
    "    for i in m_datapile.find_all('b'): \n",
    "        \n",
    "        if ('http' not in i.text) & (':' in i.text):\n",
    "            phrase = i.text.strip().replace('*','')\n",
    "            \n",
    "            if (entries.entry.isin([phrase]).sum() < 1):\n",
    "                temp = pd.DataFrame(columns = ['entry', 'count'], index = range(0,1)) \n",
    "                temp.iloc[0].entry = phrase\n",
    "                temp['count'][0] = 1\n",
    "                entries = entries.append(temp, ignore_index=True)\n",
    "            else:\n",
    "                try:\n",
    "                    ind = entries.index[entries.entry == phrase].tolist()[0]\n",
    "                    entries['count'][ind] += 1\n",
    "                except:\n",
    "                    n=0 "
   ]
  },
  {
   "cell_type": "code",
   "execution_count": 12,
   "metadata": {},
   "outputs": [],
   "source": [
    "entries = pd.read_csv(\"entries_save.csv\", index_col=0)"
   ]
  },
  {
   "cell_type": "code",
   "execution_count": 47,
   "metadata": {
    "collapsed": true
   },
   "outputs": [
    {
     "data": {
      "text/html": [
       "<div>\n",
       "<style scoped>\n",
       "    .dataframe tbody tr th:only-of-type {\n",
       "        vertical-align: middle;\n",
       "    }\n",
       "\n",
       "    .dataframe tbody tr th {\n",
       "        vertical-align: top;\n",
       "    }\n",
       "\n",
       "    .dataframe thead th {\n",
       "        text-align: right;\n",
       "    }\n",
       "</style>\n",
       "<table border=\"1\" class=\"dataframe\">\n",
       "  <thead>\n",
       "    <tr style=\"text-align: right;\">\n",
       "      <th></th>\n",
       "      <th>entry</th>\n",
       "      <th>count</th>\n",
       "    </tr>\n",
       "  </thead>\n",
       "  <tbody>\n",
       "    <tr>\n",
       "      <th>0</th>\n",
       "      <td>Адрес:</td>\n",
       "      <td>3029</td>\n",
       "    </tr>\n",
       "    <tr>\n",
       "      <th>1</th>\n",
       "      <td>Режим работы:</td>\n",
       "      <td>3030</td>\n",
       "    </tr>\n",
       "    <tr>\n",
       "      <th>2</th>\n",
       "      <td>Интернет:</td>\n",
       "      <td>3029</td>\n",
       "    </tr>\n",
       "    <tr>\n",
       "      <th>3</th>\n",
       "      <td>Адрес дирекции:</td>\n",
       "      <td>3029</td>\n",
       "    </tr>\n",
       "    <tr>\n",
       "      <th>4</th>\n",
       "      <td>Организационно-правовая форма:</td>\n",
       "      <td>2904</td>\n",
       "    </tr>\n",
       "    <tr>\n",
       "      <th>5</th>\n",
       "      <td>Виртуальные ресурсы:</td>\n",
       "      <td>3029</td>\n",
       "    </tr>\n",
       "    <tr>\n",
       "      <th>6</th>\n",
       "      <td>Бюджетный статус:</td>\n",
       "      <td>2767</td>\n",
       "    </tr>\n",
       "    <tr>\n",
       "      <th>7</th>\n",
       "      <td>Тип организации:</td>\n",
       "      <td>2757</td>\n",
       "    </tr>\n",
       "    <tr>\n",
       "      <th>8</th>\n",
       "      <td>Телефон:</td>\n",
       "      <td>2709</td>\n",
       "    </tr>\n",
       "    <tr>\n",
       "      <th>9</th>\n",
       "      <td>Проезд:</td>\n",
       "      <td>2469</td>\n",
       "    </tr>\n",
       "    <tr>\n",
       "      <th>10</th>\n",
       "      <td>Входная плата:</td>\n",
       "      <td>2087</td>\n",
       "    </tr>\n",
       "    <tr>\n",
       "      <th>11</th>\n",
       "      <td>Памятные даты и ежегодные мероприятия:</td>\n",
       "      <td>2972</td>\n",
       "    </tr>\n",
       "    <tr>\n",
       "      <th>12</th>\n",
       "      <td>Описание:</td>\n",
       "      <td>2814</td>\n",
       "    </tr>\n",
       "    <tr>\n",
       "      <th>13</th>\n",
       "      <td>Здание(я):</td>\n",
       "      <td>1802</td>\n",
       "    </tr>\n",
       "    <tr>\n",
       "      <th>14</th>\n",
       "      <td>Основатель:</td>\n",
       "      <td>1187</td>\n",
       "    </tr>\n",
       "    <tr>\n",
       "      <th>15</th>\n",
       "      <td>Основные экскурсии:</td>\n",
       "      <td>2519</td>\n",
       "    </tr>\n",
       "    <tr>\n",
       "      <th>16</th>\n",
       "      <td>Дополнительные услуги:</td>\n",
       "      <td>1312</td>\n",
       "    </tr>\n",
       "    <tr>\n",
       "      <th>17</th>\n",
       "      <td>Поблизости имеются:</td>\n",
       "      <td>2230</td>\n",
       "    </tr>\n",
       "    <tr>\n",
       "      <th>18</th>\n",
       "      <td>Местные достопримечательности:</td>\n",
       "      <td>2041</td>\n",
       "    </tr>\n",
       "    <tr>\n",
       "      <th>19</th>\n",
       "      <td>Основные должностные лица:</td>\n",
       "      <td>2726</td>\n",
       "    </tr>\n",
       "    <tr>\n",
       "      <th>20</th>\n",
       "      <td>Тел. дирекции:</td>\n",
       "      <td>2693</td>\n",
       "    </tr>\n",
       "    <tr>\n",
       "      <th>21</th>\n",
       "      <td>Даты открытия и основания:</td>\n",
       "      <td>2644</td>\n",
       "    </tr>\n",
       "    <tr>\n",
       "      <th>22</th>\n",
       "      <td>Классификация организации:</td>\n",
       "      <td>2869</td>\n",
       "    </tr>\n",
       "    <tr>\n",
       "      <th>23</th>\n",
       "      <td>Площади организации:</td>\n",
       "      <td>2533</td>\n",
       "    </tr>\n",
       "    <tr>\n",
       "      <th>24</th>\n",
       "      <td>Количество сотрудников:</td>\n",
       "      <td>2248</td>\n",
       "    </tr>\n",
       "    <tr>\n",
       "      <th>25</th>\n",
       "      <td>Среднее кол. посетителей в год:</td>\n",
       "      <td>1766</td>\n",
       "    </tr>\n",
       "    <tr>\n",
       "      <th>26</th>\n",
       "      <td>Вышестоящая организация:</td>\n",
       "      <td>2436</td>\n",
       "    </tr>\n",
       "    <tr>\n",
       "      <th>27</th>\n",
       "      <td>Организации партнеры:</td>\n",
       "      <td>1067</td>\n",
       "    </tr>\n",
       "    <tr>\n",
       "      <th>28</th>\n",
       "      <td>Единиц хранения:</td>\n",
       "      <td>2210</td>\n",
       "    </tr>\n",
       "    <tr>\n",
       "      <th>29</th>\n",
       "      <td>Наиболее ценные (уникальные) коллекции:</td>\n",
       "      <td>1809</td>\n",
       "    </tr>\n",
       "    <tr>\n",
       "      <th>...</th>\n",
       "      <td>...</td>\n",
       "      <td>...</td>\n",
       "    </tr>\n",
       "    <tr>\n",
       "      <th>69</th>\n",
       "      <td>монографические коллекции, а также  уникальные...</td>\n",
       "      <td>1</td>\n",
       "    </tr>\n",
       "    <tr>\n",
       "      <th>70</th>\n",
       "      <td>Экспозиция естественной истории:</td>\n",
       "      <td>1</td>\n",
       "    </tr>\n",
       "    <tr>\n",
       "      <th>71</th>\n",
       "      <td>Время и календари:</td>\n",
       "      <td>1</td>\n",
       "    </tr>\n",
       "    <tr>\n",
       "      <th>72</th>\n",
       "      <td>Природные  памятники:</td>\n",
       "      <td>1</td>\n",
       "    </tr>\n",
       "    <tr>\n",
       "      <th>73</th>\n",
       "      <td>Памятники истории:</td>\n",
       "      <td>1</td>\n",
       "    </tr>\n",
       "    <tr>\n",
       "      <th>74</th>\n",
       "      <td>Игровые образовательные уроки:</td>\n",
       "      <td>1</td>\n",
       "    </tr>\n",
       "    <tr>\n",
       "      <th>75</th>\n",
       "      <td>Игровые образовательные программы:</td>\n",
       "      <td>1</td>\n",
       "    </tr>\n",
       "    <tr>\n",
       "      <th>76</th>\n",
       "      <td>Между царём и императором: Королева Луиза в Во...</td>\n",
       "      <td>1</td>\n",
       "    </tr>\n",
       "    <tr>\n",
       "      <th>77</th>\n",
       "      <td>Реконструкции знаменитых исторических событий ...</td>\n",
       "      <td>1</td>\n",
       "    </tr>\n",
       "    <tr>\n",
       "      <th>78</th>\n",
       "      <td>Полное название музея:</td>\n",
       "      <td>1</td>\n",
       "    </tr>\n",
       "    <tr>\n",
       "      <th>79</th>\n",
       "      <td>На территории Пушкинского заповедника находятся:</td>\n",
       "      <td>1</td>\n",
       "    </tr>\n",
       "    <tr>\n",
       "      <th>80</th>\n",
       "      <td>Местные достопримечательности, находящиеся поб...</td>\n",
       "      <td>1</td>\n",
       "    </tr>\n",
       "    <tr>\n",
       "      <th>81</th>\n",
       "      <td>другое название усадьбы: \"Дом, в котором жила ...</td>\n",
       "      <td>1</td>\n",
       "    </tr>\n",
       "    <tr>\n",
       "      <th>82</th>\n",
       "      <td>Занятия на экспозиции:</td>\n",
       "      <td>1</td>\n",
       "    </tr>\n",
       "    <tr>\n",
       "      <th>83</th>\n",
       "      <td>Факультативные занятия на экспозиции:</td>\n",
       "      <td>1</td>\n",
       "    </tr>\n",
       "    <tr>\n",
       "      <th>84</th>\n",
       "      <td>Передвижная фотовыставка в рамках проекта \"Сте...</td>\n",
       "      <td>1</td>\n",
       "    </tr>\n",
       "    <tr>\n",
       "      <th>85</th>\n",
       "      <td>Выставки в Российском этнографическом музее:</td>\n",
       "      <td>1</td>\n",
       "    </tr>\n",
       "    <tr>\n",
       "      <th>86</th>\n",
       "      <td>Выставки в рамках проекта \"Великий Шелковый пу...</td>\n",
       "      <td>1</td>\n",
       "    </tr>\n",
       "    <tr>\n",
       "      <th>87</th>\n",
       "      <td>Выставки в музеях Российской Федерации:</td>\n",
       "      <td>2</td>\n",
       "    </tr>\n",
       "    <tr>\n",
       "      <th>88</th>\n",
       "      <td>Зарубежные выставки:</td>\n",
       "      <td>1</td>\n",
       "    </tr>\n",
       "    <tr>\n",
       "      <th>89</th>\n",
       "      <td>Музей народов Дона:</td>\n",
       "      <td>1</td>\n",
       "    </tr>\n",
       "    <tr>\n",
       "      <th>90</th>\n",
       "      <td>Детские образовательные программы:</td>\n",
       "      <td>1</td>\n",
       "    </tr>\n",
       "    <tr>\n",
       "      <th>91</th>\n",
       "      <td>\"Среда в свете экрана\":</td>\n",
       "      <td>1</td>\n",
       "    </tr>\n",
       "    <tr>\n",
       "      <th>92</th>\n",
       "      <td>Лекции \"Новые встречи\":</td>\n",
       "      <td>1</td>\n",
       "    </tr>\n",
       "    <tr>\n",
       "      <th>93</th>\n",
       "      <td>Выставки в Сахалинском областном художественно...</td>\n",
       "      <td>1</td>\n",
       "    </tr>\n",
       "    <tr>\n",
       "      <th>94</th>\n",
       "      <td>Временный адрес:</td>\n",
       "      <td>1</td>\n",
       "    </tr>\n",
       "    <tr>\n",
       "      <th>95</th>\n",
       "      <td>Музеи в г. Cмоленске:</td>\n",
       "      <td>1</td>\n",
       "    </tr>\n",
       "    <tr>\n",
       "      <th>96</th>\n",
       "      <td>Филиалы в Смоленской области:</td>\n",
       "      <td>1</td>\n",
       "    </tr>\n",
       "    <tr>\n",
       "      <th>97</th>\n",
       "      <td>Тюремный замок: Больничный корпус (Научная биб...</td>\n",
       "      <td>1</td>\n",
       "    </tr>\n",
       "    <tr>\n",
       "      <th>98</th>\n",
       "      <td>Национальные интересы России в Арктике: истори...</td>\n",
       "      <td>1</td>\n",
       "    </tr>\n",
       "  </tbody>\n",
       "</table>\n",
       "<p>99 rows × 2 columns</p>\n",
       "</div>"
      ],
      "text/plain": [
       "                                                entry  count\n",
       "0                                              Адрес:   3029\n",
       "1                                       Режим работы:   3030\n",
       "2                                           Интернет:   3029\n",
       "3                                     Адрес дирекции:   3029\n",
       "4                      Организационно-правовая форма:   2904\n",
       "5                                Виртуальные ресурсы:   3029\n",
       "6                                   Бюджетный статус:   2767\n",
       "7                                    Тип организации:   2757\n",
       "8                                            Телефон:   2709\n",
       "9                                             Проезд:   2469\n",
       "10                                     Входная плата:   2087\n",
       "11             Памятные даты и ежегодные мероприятия:   2972\n",
       "12                                          Описание:   2814\n",
       "13                                         Здание(я):   1802\n",
       "14                                        Основатель:   1187\n",
       "15                                Основные экскурсии:   2519\n",
       "16                             Дополнительные услуги:   1312\n",
       "17                                Поблизости имеются:   2230\n",
       "18                     Местные достопримечательности:   2041\n",
       "19                         Основные должностные лица:   2726\n",
       "20                                     Тел. дирекции:   2693\n",
       "21                         Даты открытия и основания:   2644\n",
       "22                         Классификация организации:   2869\n",
       "23                               Площади организации:   2533\n",
       "24                            Количество сотрудников:   2248\n",
       "25                    Среднее кол. посетителей в год:   1766\n",
       "26                           Вышестоящая организация:   2436\n",
       "27                              Организации партнеры:   1067\n",
       "28                                   Единиц хранения:   2210\n",
       "29            Наиболее ценные (уникальные) коллекции:   1809\n",
       "..                                                ...    ...\n",
       "69  монографические коллекции, а также  уникальные...      1\n",
       "70                   Экспозиция естественной истории:      1\n",
       "71                                 Время и календари:      1\n",
       "72                              Природные  памятники:      1\n",
       "73                                 Памятники истории:      1\n",
       "74                     Игровые образовательные уроки:      1\n",
       "75                 Игровые образовательные программы:      1\n",
       "76  Между царём и императором: Королева Луиза в Во...      1\n",
       "77  Реконструкции знаменитых исторических событий ...      1\n",
       "78                             Полное название музея:      1\n",
       "79   На территории Пушкинского заповедника находятся:      1\n",
       "80  Местные достопримечательности, находящиеся поб...      1\n",
       "81  другое название усадьбы: \"Дом, в котором жила ...      1\n",
       "82                             Занятия на экспозиции:      1\n",
       "83              Факультативные занятия на экспозиции:      1\n",
       "84  Передвижная фотовыставка в рамках проекта \"Сте...      1\n",
       "85       Выставки в Российском этнографическом музее:      1\n",
       "86  Выставки в рамках проекта \"Великий Шелковый пу...      1\n",
       "87            Выставки в музеях Российской Федерации:      2\n",
       "88                               Зарубежные выставки:      1\n",
       "89                                Музей народов Дона:      1\n",
       "90                 Детские образовательные программы:      1\n",
       "91                            \"Среда в свете экрана\":      1\n",
       "92                            Лекции \"Новые встречи\":      1\n",
       "93  Выставки в Сахалинском областном художественно...      1\n",
       "94                                   Временный адрес:      1\n",
       "95                              Музеи в г. Cмоленске:      1\n",
       "96                      Филиалы в Смоленской области:      1\n",
       "97  Тюремный замок: Больничный корпус (Научная биб...      1\n",
       "98  Национальные интересы России в Арктике: истори...      1\n",
       "\n",
       "[99 rows x 2 columns]"
      ]
     },
     "execution_count": 47,
     "metadata": {},
     "output_type": "execute_result"
    }
   ],
   "source": [
    "entries"
   ]
  },
  {
   "cell_type": "markdown",
   "metadata": {},
   "source": [
    "As we can see there are 99 unique entries in the base whch we define as a < b > tag on an html page. Not all of them are relevant, however they are instrumental for our future tasks"
   ]
  },
  {
   "cell_type": "code",
   "execution_count": 15,
   "metadata": {},
   "outputs": [],
   "source": [
    "unique_entries = entries.entry.to_list()"
   ]
  },
  {
   "cell_type": "markdown",
   "metadata": {},
   "source": [
    "We need only a few entries for our research"
   ]
  },
  {
   "cell_type": "code",
   "execution_count": 16,
   "metadata": {},
   "outputs": [],
   "source": [
    "select_entries = ['Адрес:', #0\n",
    "                  'Даты открытия и основания:', #1\n",
    "                  'Бюджетный статус:', #2\n",
    "                  'Организационно-правовая форма:', #3\n",
    "                  'Тип организации:', #4\n",
    "                  'Классификация организации:', #5\n",
    "                  'Площади организации:', #6\n",
    "                  'Количество сотрудников:', #7\n",
    "                  'Среднее кол. посетителей в год:', #8\n",
    "                  'Спонсоры, меценаты и грантодатели:', #9\n",
    "                  'Единиц хранения:'] #10"
   ]
  },
  {
   "cell_type": "markdown",
   "metadata": {},
   "source": [
    "Here is a complicated code for filling the dataframe with data"
   ]
  },
  {
   "cell_type": "code",
   "execution_count": 57,
   "metadata": {},
   "outputs": [
    {
     "data": {
      "application/vnd.jupyter.widget-view+json": {
       "model_id": "91f1eae6fd5d496a81a30e650fb00170",
       "version_major": 2,
       "version_minor": 0
      },
      "text/plain": [
       "HBox(children=(IntProgress(value=0, max=3029), HTML(value='')))"
      ]
     },
     "metadata": {},
     "output_type": "display_data"
    }
   ],
   "source": [
    "for i in tqdm(range (0, df.shape[0])):\n",
    "    \n",
    "    m_source = requests.get(df.iloc[i].VRM_link).text\n",
    "    m_soup = bs(m_source, 'lxml')\n",
    "    m_datapile = m_soup.find('center')\n",
    "    \n",
    "    s = m_datapile.text\n",
    "    s = s.replace('\\xa0', '')\n",
    "    s = s.replace('\\r', '')\n",
    "    s = s.replace('\\t', '')\n",
    "    s = s.replace('\\n', ' ')\n",
    "    \n",
    "    stop_points = []\n",
    "    for entry in unique_entries:\n",
    "        try:\n",
    "            point = s.index(entry)\n",
    "            stop_points.append(point)\n",
    "        except:\n",
    "            n=0\n",
    "    stop_points.sort(key=abs)\n",
    "    \n",
    "    for entry in select_entries:\n",
    "        try:\n",
    "            start = s.index(entry) + len(entry)\n",
    "            for y in stop_points:\n",
    "                if start < y:\n",
    "                    end = y\n",
    "                    break\n",
    "            \n",
    "            part_of_s = ''        \n",
    "            for y in range(start, end):\n",
    "                part_of_s += s[y]\n",
    "                \n",
    "            if entry == 'Адрес:':\n",
    "                df.iloc[i].address = part_of_s.strip()\n",
    "            if entry == 'Даты открытия и основания:':\n",
    "                df.iloc[i].dates = part_of_s.strip()\n",
    "            if entry == 'Бюджетный статус:':\n",
    "                df.iloc[i].budget_status = part_of_s.strip()\n",
    "            if entry == 'Организационно-правовая форма:':\n",
    "                df.iloc[i].org_type = part_of_s.strip()\n",
    "            if entry == 'Классификация организации:':\n",
    "                df.iloc[i]['class'] = part_of_s.strip()\n",
    "            if entry == 'Площади организации:':\n",
    "                df.iloc[i].area = part_of_s.strip()\n",
    "            if entry == 'Количество сотрудников:':\n",
    "                df.iloc[i].employees = part_of_s.strip()\n",
    "            if entry == 'Среднее кол. посетителей в год:':\n",
    "                df.iloc[i].visitors = part_of_s.strip()\n",
    "            if entry == 'Спонсоры, меценаты и грантодатели:':\n",
    "                df.iloc[i].sponsors = part_of_s.strip()\n",
    "            if entry == 'Единиц хранения:':\n",
    "                df.iloc[i].storage = part_of_s.strip()\n",
    "        except:\n",
    "            n=0"
   ]
  },
  {
   "cell_type": "code",
   "execution_count": 58,
   "metadata": {},
   "outputs": [],
   "source": [
    "df.to_csv('df_save.csv')"
   ]
  },
  {
   "cell_type": "code",
   "execution_count": 31,
   "metadata": {},
   "outputs": [],
   "source": [
    "df = pd.read_csv('df_save.csv', index_col=0)"
   ]
  },
  {
   "cell_type": "markdown",
   "metadata": {},
   "source": [
    "# Refining the dataset\n",
    "We will need to standartize and refine the datasat for ease of future use and uniformity of values"
   ]
  },
  {
   "cell_type": "markdown",
   "metadata": {},
   "source": [
    "#### Budget and Address"
   ]
  },
  {
   "cell_type": "code",
   "execution_count": 32,
   "metadata": {},
   "outputs": [],
   "source": [
    "for i in range(0, df.shape[0]):\n",
    "    try:\n",
    "        df.iloc[i]['address'] = df.iloc[i]['address'].strip()\n",
    "        df.iloc[i]['budget_status'] = df.iloc[i]['budget_status'].strip()\n",
    "    except:\n",
    "        n=0\n",
    "    if df.iloc[i]['budget_status'] == '':\n",
    "        df.iloc[i]['budget_status'] = float('nan')"
   ]
  },
  {
   "cell_type": "code",
   "execution_count": 33,
   "metadata": {
    "scrolled": true
   },
   "outputs": [],
   "source": [
    "#df['budget_status'].unique()"
   ]
  },
  {
   "cell_type": "code",
   "execution_count": 34,
   "metadata": {},
   "outputs": [],
   "source": [
    "bs_unique = ['Субъект РФ', 'Муниципальный', 'Федеральный','Общественная организация', 'Частная', 'Ведомственный', \n",
    "             'Личный']"
   ]
  },
  {
   "cell_type": "markdown",
   "metadata": {},
   "source": [
    "#### Class"
   ]
  },
  {
   "cell_type": "code",
   "execution_count": 35,
   "metadata": {},
   "outputs": [],
   "source": [
    "#df['class'].unique()"
   ]
  },
  {
   "cell_type": "code",
   "execution_count": 36,
   "metadata": {
    "scrolled": true
   },
   "outputs": [
    {
     "data": {
      "application/vnd.jupyter.widget-view+json": {
       "model_id": "737527d900c149269ac071ef75eb5d15",
       "version_major": 2,
       "version_minor": 0
      },
      "text/plain": [
       "HBox(children=(IntProgress(value=0, max=3029), HTML(value='')))"
      ]
     },
     "metadata": {},
     "output_type": "display_data"
    },
    {
     "name": "stdout",
     "output_type": "stream",
     "text": [
      "\n"
     ]
    }
   ],
   "source": [
    "classes = pd.DataFrame(columns= ['class', 'count'])\n",
    "for i in tqdm(range(0, df.shape[0])):\n",
    "    if isinstance(df.iloc[i]['class'], str) == True:\n",
    "        df.iloc[i]['class'] = df.iloc[i]['class'].strip()\n",
    "        s = df.iloc[i]['class']\n",
    "        cls = ''\n",
    "        for j in range(0, len(s)):\n",
    "            if (s[j] != ' ') & (s[j] != ','):\n",
    "                cls += s[j]\n",
    "            elif (cls != '') & (classes['class'].isin([cls]).sum() < 1):\n",
    "                temp = pd.DataFrame(columns= ['class', 'count'], index = range(0,1))\n",
    "                temp.iloc[0] = {'class': cls, 'count': 1}\n",
    "                classes = classes.append(temp, ignore_index=True)\n",
    "                cls = ''\n",
    "            elif (cls != '') & (classes['class'].isin([cls]).sum() >= 1):\n",
    "                ind = classes.index[classes['class'] == cls].tolist()[0]\n",
    "                classes['count'][ind] += 1\n",
    "                cls = ''"
   ]
  },
  {
   "cell_type": "code",
   "execution_count": 37,
   "metadata": {},
   "outputs": [],
   "source": [
    "#classes.sort_values('count', ascending = False)"
   ]
  },
  {
   "cell_type": "code",
   "execution_count": 38,
   "metadata": {},
   "outputs": [],
   "source": [
    "uc_names = ['историческая', 'краеведческая', 'художественная', 'персональная или мемориальная', 'естественнонаучная',\n",
    "                 'науки, техники и отраслей н.х.', 'литературная', 'архитектурно-ансамблевая', 'музей-заповедник',\n",
    "                 'музыкальная', 'театральная']"
   ]
  },
  {
   "cell_type": "code",
   "execution_count": 39,
   "metadata": {},
   "outputs": [],
   "source": [
    "uc_vars = ['c_historical', 'c_local_history', 'c_art', 'c_pers_memorial', 'c_nat_history', 'c_sci_tech',\n",
    "          'c_literary', 'c_architectural', 'c_reserve', 'c_musical', 'c_theatrical']"
   ]
  },
  {
   "cell_type": "code",
   "execution_count": null,
   "metadata": {},
   "outputs": [],
   "source": [
    "unique_classes = pd.DataFrame(columns = ['name', 'variable'], index = range(0,len(uc_names)))\n",
    "unique_classes.name = pd.Series(uc_names)\n",
    "unique_classes.variable = pd.Series(uc_vars)"
   ]
  },
  {
   "cell_type": "code",
   "execution_count": null,
   "metadata": {},
   "outputs": [],
   "source": [
    "for uc in unique_classes.variable:\n",
    "    df[uc] = 0"
   ]
  },
  {
   "cell_type": "code",
   "execution_count": null,
   "metadata": {},
   "outputs": [
    {
     "data": {
      "application/vnd.jupyter.widget-view+json": {
       "model_id": "23d96e0090784c1b9905d9870940e85a",
       "version_major": 2,
       "version_minor": 0
      },
      "text/plain": [
       "HBox(children=(IntProgress(value=0, max=3029), HTML(value='')))"
      ]
     },
     "metadata": {},
     "output_type": "display_data"
    },
    {
     "name": "stderr",
     "output_type": "stream",
     "text": [
      "C:\\Users\\Mvideo\\Anaconda3\\lib\\site-packages\\ipykernel_launcher.py:11: SettingWithCopyWarning: \n",
      "A value is trying to be set on a copy of a slice from a DataFrame\n",
      "\n",
      "See the caveats in the documentation: http://pandas.pydata.org/pandas-docs/stable/indexing.html#indexing-view-versus-copy\n",
      "  # This is added back by InteractiveShellApp.init_path()\n"
     ]
    },
    {
     "name": "stdout",
     "output_type": "stream",
     "text": [
      "\n"
     ]
    }
   ],
   "source": [
    "for i in tqdm(range(0, df.shape[0])):\n",
    "    s = df.iloc[i]['class']\n",
    "    if isinstance(s, str) == True:\n",
    "        for j in range(0, unique_classes.shape[0]):\n",
    "            name = unique_classes['name'][j]\n",
    "            var = unique_classes['variable'][j]\n",
    "            try:\n",
    "                ind = s.index(name)\n",
    "                end = ind + len(name)\n",
    "                if s[ind:end] == name:\n",
    "                    df[var][i] = 1\n",
    "            except:\n",
    "                n=0"
   ]
  },
  {
   "cell_type": "markdown",
   "metadata": {},
   "source": [
    "#### Organizational type"
   ]
  },
  {
   "cell_type": "code",
   "execution_count": null,
   "metadata": {},
   "outputs": [],
   "source": [
    "#df.org_type.unique()"
   ]
  },
  {
   "cell_type": "code",
   "execution_count": null,
   "metadata": {},
   "outputs": [
    {
     "name": "stderr",
     "output_type": "stream",
     "text": [
      "C:\\Users\\Mvideo\\Anaconda3\\lib\\site-packages\\ipykernel_launcher.py:3: SettingWithCopyWarning: \n",
      "A value is trying to be set on a copy of a slice from a DataFrame\n",
      "\n",
      "See the caveats in the documentation: http://pandas.pydata.org/pandas-docs/stable/indexing.html#indexing-view-versus-copy\n",
      "  This is separate from the ipykernel package so we can avoid doing imports until\n"
     ]
    }
   ],
   "source": [
    "for i in range(0, df.shape[0]):\n",
    "    if isinstance(df.iloc[i]['org_type'], str) == True:\n",
    "        df.iloc[i]['org_type'] = df.iloc[i]['org_type'].strip()"
   ]
  },
  {
   "cell_type": "code",
   "execution_count": null,
   "metadata": {},
   "outputs": [],
   "source": [
    "orgtype_names = ['некоммерческое учреждение', 'некоммерческая автономная', 'некоммерческое партнерство',\n",
    "                 'коммерческая организация']\n",
    "orgstat_vars = ['ot_ncinst', 'ot_ncaut', 'ot_ncpartner', 'ot_commercial']\n",
    "orgstat = pd.DataFrame(columns = ['name', 'variable'], index = range(0,len(orgtype_names)))\n",
    "orgstat.name = pd.Series(orgtype_names)\n",
    "orgstat.variable = pd.Series(orgstat_vars)"
   ]
  },
  {
   "cell_type": "code",
   "execution_count": null,
   "metadata": {},
   "outputs": [],
   "source": [
    "for ot in orgstat.variable:\n",
    "    df[ot] = 0"
   ]
  },
  {
   "cell_type": "code",
   "execution_count": null,
   "metadata": {},
   "outputs": [
    {
     "data": {
      "application/vnd.jupyter.widget-view+json": {
       "model_id": "4691059a10744fd7a365949fbc32db55",
       "version_major": 2,
       "version_minor": 0
      },
      "text/plain": [
       "HBox(children=(IntProgress(value=0, max=3029), HTML(value='')))"
      ]
     },
     "metadata": {},
     "output_type": "display_data"
    },
    {
     "name": "stderr",
     "output_type": "stream",
     "text": [
      "C:\\Users\\Mvideo\\Anaconda3\\lib\\site-packages\\ipykernel_launcher.py:11: SettingWithCopyWarning: \n",
      "A value is trying to be set on a copy of a slice from a DataFrame\n",
      "\n",
      "See the caveats in the documentation: http://pandas.pydata.org/pandas-docs/stable/indexing.html#indexing-view-versus-copy\n",
      "  # This is added back by InteractiveShellApp.init_path()\n"
     ]
    },
    {
     "name": "stdout",
     "output_type": "stream",
     "text": [
      "\n"
     ]
    }
   ],
   "source": [
    "for i in tqdm(range(0, df.shape[0])):\n",
    "    s = df.iloc[i]['org_type']\n",
    "    if isinstance(s, str) == True:\n",
    "        for j in range(0, orgstat.shape[0]):\n",
    "            name = orgstat['name'][j]\n",
    "            var = orgstat['variable'][j]\n",
    "            try:\n",
    "                ind = s.index(name)\n",
    "                end = ind + len(name)\n",
    "                if s[ind:end] == name:\n",
    "                    df[var][i] = 1\n",
    "            except:\n",
    "                n=0"
   ]
  },
  {
   "cell_type": "markdown",
   "metadata": {},
   "source": [
    "#### Area"
   ]
  },
  {
   "cell_type": "code",
   "execution_count": null,
   "metadata": {
    "scrolled": true
   },
   "outputs": [],
   "source": [
    "#df.area.unique()"
   ]
  },
  {
   "cell_type": "code",
   "execution_count": null,
   "metadata": {},
   "outputs": [
    {
     "data": {
      "application/vnd.jupyter.widget-view+json": {
       "model_id": "ea68b9890db74621af97875b25f9d4c9",
       "version_major": 2,
       "version_minor": 0
      },
      "text/plain": [
       "HBox(children=(IntProgress(value=0, max=3029), HTML(value='')))"
      ]
     },
     "metadata": {},
     "output_type": "display_data"
    },
    {
     "name": "stderr",
     "output_type": "stream",
     "text": [
      "C:\\Users\\Mvideo\\Anaconda3\\lib\\site-packages\\ipykernel_launcher.py:5: SettingWithCopyWarning: \n",
      "A value is trying to be set on a copy of a slice from a DataFrame\n",
      "\n",
      "See the caveats in the documentation: http://pandas.pydata.org/pandas-docs/stable/indexing.html#indexing-view-versus-copy\n",
      "  \"\"\"\n"
     ]
    }
   ],
   "source": [
    "areas = pd.DataFrame(columns= ['area_type', 'count'])\n",
    "for i in tqdm(range(0, df.shape[0])):\n",
    "    if isinstance(df.iloc[i]['area'], str) == True:\n",
    "        \n",
    "        df.iloc[i]['area'] = df.iloc[i]['area'].strip()\n",
    "        dump = df.iloc[i]['area']\n",
    "        area_type = ''\n",
    "        \n",
    "        for j in range(0, len(dump)):\n",
    "            if (dump[j] != ' ') & (dump[j] != ',') & (dump[j].isnumeric() == False):\n",
    "                area_type += dump[j]\n",
    "            elif (area_type != '') & (areas['area_type'].isin([area_type]).sum() < 1):\n",
    "                temp = pd.DataFrame(columns= ['area_type', 'count'], index = range(0,1))\n",
    "                temp.iloc[0] = {'area_type': area_type, 'count': 1}\n",
    "                areas = areas.append(temp, ignore_index=True)\n",
    "                area_type = ''\n",
    "            elif (area_type != '') & (areas['area_type'].isin([area_type]).sum() >= 1):   \n",
    "                ind = areas.index[areas['area_type'] == area_type].tolist()[0]\n",
    "                areas['count'][ind] += 1\n",
    "                area_type = ''"
   ]
  },
  {
   "cell_type": "code",
   "execution_count": null,
   "metadata": {},
   "outputs": [],
   "source": [
    "#areas"
   ]
  },
  {
   "cell_type": "code",
   "execution_count": null,
   "metadata": {},
   "outputs": [],
   "source": [
    "areas_unique = ['экспозиционно-выставочная', 'временных выставок', 'фондохранилищ', 'парковая']\n",
    "areas_vars = ['a_exhibition', 'a_temporary', 'a_storage','a_park']\n",
    "areas = pd.DataFrame(columns = ['type', 'variable'], index = range(0, 4))\n",
    "areas.type = pd.Series(areas_unique)\n",
    "areas.variable = pd.Series(areas_vars)\n",
    "#areas"
   ]
  },
  {
   "cell_type": "code",
   "execution_count": null,
   "metadata": {},
   "outputs": [],
   "source": [
    "#areas.iloc[0]['type']"
   ]
  },
  {
   "cell_type": "code",
   "execution_count": null,
   "metadata": {},
   "outputs": [],
   "source": [
    "df['a_exhibition'] = float('nan')\n",
    "df['a_temporary'] = float('nan')\n",
    "df['a_storage'] = float('nan')\n",
    "df['a_park'] = float('nan')"
   ]
  },
  {
   "cell_type": "code",
   "execution_count": null,
   "metadata": {},
   "outputs": [],
   "source": [
    "for i in tqdm(range (0, df.shape[0])):\n",
    "    s = df.iloc[i]['area']\n",
    "    for j in range(0, areas.shape[0]):\n",
    "        key = areas.iloc[j]['type']\n",
    "        var = areas.iloc[j]['variable']\n",
    "        try:\n",
    "            spot = s.index(key)\n",
    "            spot += len(key)\n",
    "            flag = True\n",
    "            result = ''\n",
    "            for k in range(spot, len(s)):\n",
    "                if (flag == True) & ((s[k].isnumeric() == True) or (s[k] == ',')):\n",
    "                    result += s[k]\n",
    "                elif s[k] == 'м':\n",
    "                    flag = False\n",
    "            result = result.replace(',', '.')\n",
    "            df[var][i] = float(result)\n",
    "        except:\n",
    "            n = 0"
   ]
  },
  {
   "cell_type": "markdown",
   "metadata": {},
   "source": [
    "#### Employees"
   ]
  },
  {
   "cell_type": "code",
   "execution_count": null,
   "metadata": {},
   "outputs": [],
   "source": [
    "for i in tqdm(range(0, df.shape[0])):\n",
    "    if df.iloc[i]['employees'] == '':\n",
    "        df['employees'][i] = float('nan')\n",
    "        \n",
    "    if isinstance(df.iloc[i]['employees'], str) == True:\n",
    "        df['employees'][i] = df.iloc[i]['employees'].strip()\n",
    "        j = 0\n",
    "        nemp = ''\n",
    "        s = df.iloc[i]['employees']\n",
    "        flag = False\n",
    "        for j in range(0, len(s)):\n",
    "            if flag == False:\n",
    "                if s[j].isnumeric() == True:\n",
    "                    nemp += s[j]\n",
    "                elif s[j] == ',':\n",
    "                    flag = True\n",
    "        df['employees'][i] = int(nemp)"
   ]
  },
  {
   "cell_type": "markdown",
   "metadata": {},
   "source": [
    "#### Visitors"
   ]
  },
  {
   "cell_type": "code",
   "execution_count": null,
   "metadata": {},
   "outputs": [],
   "source": [
    "for i in tqdm(range(0, df.shape[0])):\n",
    "    if isinstance(df.iloc[i]['visitors'], str) == True:\n",
    "        df['visitors'][i] = df.iloc[i]['visitors'].strip()\n",
    "        j = 0\n",
    "        v = ''\n",
    "        s = df.iloc[i]['visitors']\n",
    "        flag = False\n",
    "        for j in range(0, len(s)):\n",
    "            if (s[j].isnumeric() == True) & (flag == False):\n",
    "                v += s[j]\n",
    "            elif s[j] == ',':\n",
    "                flag = True\n",
    "        df['visitors'][i] = int(v)"
   ]
  },
  {
   "cell_type": "markdown",
   "metadata": {},
   "source": [
    "#### Storage"
   ]
  },
  {
   "cell_type": "code",
   "execution_count": null,
   "metadata": {},
   "outputs": [],
   "source": [
    "for i in tqdm(range(0, df.shape[0])):\n",
    "    if isinstance(df.iloc[i]['storage'], str) == True:\n",
    "        df['storage'][i] = df.iloc[i]['storage'].strip()\n",
    "        j = 0\n",
    "        storage = ''\n",
    "        s = df.iloc[i]['storage']\n",
    "        flag = False\n",
    "        for j in range(0, len(s)):\n",
    "            if (s[j].isnumeric() == True) & (flag == False):\n",
    "                storage += s[j]\n",
    "            elif s[j] == ',':\n",
    "                flag = True\n",
    "        df['storage'][i] = int(storage)"
   ]
  },
  {
   "cell_type": "markdown",
   "metadata": {},
   "source": [
    "#### Date of Foundation"
   ]
  },
  {
   "cell_type": "code",
   "execution_count": null,
   "metadata": {},
   "outputs": [],
   "source": [
    "founded = 'основан:'\n",
    "opened = 'открыт:'"
   ]
  },
  {
   "cell_type": "code",
   "execution_count": null,
   "metadata": {},
   "outputs": [],
   "source": [
    "df['year_founded'] = float('nan')"
   ]
  },
  {
   "cell_type": "code",
   "execution_count": null,
   "metadata": {
    "scrolled": true
   },
   "outputs": [],
   "source": [
    "for i in tqdm(range(0, df.shape[0])):\n",
    "    s = df.iloc[i].dates\n",
    "    date = ''\n",
    "    if isinstance(s, str) == True:\n",
    "        try:\n",
    "            ind = s.index(founded)\n",
    "        except:\n",
    "            ind = s.index(opened)\n",
    "        for j in range(ind + 8, len(s)):\n",
    "            if (s[j-4:j].isnumeric() == True) & (date == ''):\n",
    "                flag = True\n",
    "                date = s[j-4:j]\n",
    "                df['year_founded'][i] = int(date)"
   ]
  },
  {
   "cell_type": "markdown",
   "metadata": {},
   "source": [
    "#### Outliers elimination"
   ]
  },
  {
   "cell_type": "code",
   "execution_count": null,
   "metadata": {},
   "outputs": [],
   "source": [
    "columns_in_question = ['employees', 'visitors', 'storage', 'a_exhibition', 'a_temporary', 'a_storage', 'a_park']"
   ]
  },
  {
   "cell_type": "code",
   "execution_count": null,
   "metadata": {},
   "outputs": [],
   "source": [
    "lower_bound = 0.005\n",
    "upper_bound = 0.995"
   ]
  },
  {
   "cell_type": "code",
   "execution_count": null,
   "metadata": {},
   "outputs": [],
   "source": [
    "for col in columns_in_question:\n",
    "    l = df[col].quantile([lower_bound]).loc[lower_bound]\n",
    "    u = df[col].quantile([upper_bound]).loc[upper_bound]\n",
    "    df[col][df[col] < l] = float('nan')\n",
    "    df[col][df[col] > u] = float('nan')"
   ]
  },
  {
   "cell_type": "markdown",
   "metadata": {},
   "source": [
    "# Extracting Valuable Information"
   ]
  },
  {
   "cell_type": "markdown",
   "metadata": {},
   "source": [
    "First, let's save our final dataset, so we won't have to run all of the code and wait"
   ]
  },
  {
   "cell_type": "code",
   "execution_count": 217,
   "metadata": {
    "scrolled": true
   },
   "outputs": [],
   "source": [
    "df.to_excel('df_final.xlsx')"
   ]
  },
  {
   "cell_type": "code",
   "execution_count": 221,
   "metadata": {},
   "outputs": [
    {
     "data": {
      "text/plain": [
       "3350.4544067796605"
      ]
     },
     "execution_count": 221,
     "metadata": {},
     "output_type": "execute_result"
    }
   ],
   "source": [
    "df[df.budget_status == 'Федеральный'].a_exhibition.mean()"
   ]
  },
  {
   "cell_type": "code",
   "execution_count": 223,
   "metadata": {},
   "outputs": [
    {
     "data": {
      "text/plain": [
       "158"
      ]
     },
     "execution_count": 223,
     "metadata": {},
     "output_type": "execute_result"
    }
   ],
   "source": [
    "df[df.budget_status == 'Частная'].shape[0]"
   ]
  },
  {
   "cell_type": "markdown",
   "metadata": {},
   "source": [
    "Let's find differences between groups of museums divided by their budget status"
   ]
  },
  {
   "cell_type": "code",
   "execution_count": 278,
   "metadata": {},
   "outputs": [],
   "source": [
    "status = df.budget_status.unique().tolist()\n",
    "status = status[1:len(status)]"
   ]
  },
  {
   "cell_type": "code",
   "execution_count": 288,
   "metadata": {},
   "outputs": [],
   "source": [
    "findings = pd.DataFrame(columns = ['budget_status', 'sum', 'avg_a_exhibition', 'avg_a_temporary',\n",
    "                                   'avg_a_storage', 'avg_a_park', 'sum_c_historical', 'sum_c_local_history', 'sum_c_art',\n",
    "                                   'sum_c_pers_memorial', 'sum_c_nat_history', 'sum_c_sci_tech', 'sum_c_literary',\n",
    "                                  'sum_c_architectural', 'sum_c_reserve', 'sum_c_musical', 'sum_c_theatrical',\n",
    "                                   'avg_employees', 'avg_visitors', 'avg_storage'],\n",
    "                       index = range(0, len(status)))"
   ]
  },
  {
   "cell_type": "code",
   "execution_count": 289,
   "metadata": {},
   "outputs": [],
   "source": [
    "findings.budget_status = pd.Series(status)"
   ]
  },
  {
   "cell_type": "code",
   "execution_count": 290,
   "metadata": {},
   "outputs": [],
   "source": [
    "for i in range(0, findings.shape[0]):\n",
    "    findings['sum'][i] = df[df.budget_status == findings.iloc[i]['budget_status']]['budget_status'].shape[0]\n",
    "    \n",
    "    findings['avg_a_exhibition'][i] = df[df.budget_status == findings.iloc[i]['budget_status']]['a_exhibition'].mean()\n",
    "    findings['avg_a_temporary'][i] = df[df.budget_status == findings.iloc[i]['budget_status']]['a_temporary'].mean()\n",
    "    findings['avg_a_storage'][i] = df[df.budget_status == findings.iloc[i]['budget_status']]['a_storage'].mean()\n",
    "    findings['avg_a_park'][i] = df[df.budget_status == findings.iloc[i]['budget_status']]['a_park'].mean()\n",
    "    \n",
    "    findings['sum_c_historical'][i] = df[df.budget_status == findings.iloc[i]['budget_status']]['c_historical'].sum()\n",
    "    findings['sum_c_local_history'][i] = df[df.budget_status == findings.iloc[i]['budget_status']]['c_local_history'].sum()\n",
    "    findings['sum_c_art'][i] = df[df.budget_status == findings.iloc[i]['budget_status']]['c_art'].sum()\n",
    "    findings['sum_c_pers_memorial'][i] = df[df.budget_status == findings.iloc[i]['budget_status']]['c_pers_memorial'].sum()\n",
    "    findings['sum_c_nat_history'][i] = df[df.budget_status == findings.iloc[i]['budget_status']]['c_nat_history'].sum()\n",
    "    findings['sum_c_sci_tech'][i] = df[df.budget_status == findings.iloc[i]['budget_status']]['c_sci_tech'].sum()\n",
    "    findings['sum_c_literary'][i] = df[df.budget_status == findings.iloc[i]['budget_status']]['c_literary'].sum()\n",
    "    findings['sum_c_architectural'][i] = df[df.budget_status == findings.iloc[i]['budget_status']]['c_architectural'].sum()\n",
    "    findings['sum_c_reserve'][i] = df[df.budget_status == findings.iloc[i]['budget_status']]['c_reserve'].sum()\n",
    "    findings['sum_c_musical'][i] = df[df.budget_status == findings.iloc[i]['budget_status']]['c_musical'].sum()\n",
    "    findings['sum_c_theatrical'][i] = df[df.budget_status == findings.iloc[i]['budget_status']]['c_theatrical'].sum()\n",
    "    \n",
    "    findings['avg_employees'][i] = df[df.budget_status == findings.iloc[i]['budget_status']]['employees'].mean()\n",
    "    findings['avg_visitors'][i] = df[df.budget_status == findings.iloc[i]['budget_status']]['visitors'].mean()\n",
    "    findings['avg_storage'][i] = df[df.budget_status == findings.iloc[i]['budget_status']]['storage'].mean()"
   ]
  },
  {
   "cell_type": "code",
   "execution_count": 291,
   "metadata": {},
   "outputs": [],
   "source": [
    "findings.to_excel('findings.xlsx')"
   ]
  },
  {
   "cell_type": "code",
   "execution_count": 287,
   "metadata": {},
   "outputs": [
    {
     "name": "stderr",
     "output_type": "stream",
     "text": [
      "C:\\Users\\Mvideo\\Anaconda3\\lib\\site-packages\\ipykernel_launcher.py:1: SettingWithCopyWarning: \n",
      "A value is trying to be set on a copy of a slice from a DataFrame\n",
      "\n",
      "See the caveats in the documentation: http://pandas.pydata.org/pandas-docs/stable/indexing.html#indexing-view-versus-copy\n",
      "  \"\"\"Entry point for launching an IPython kernel.\n"
     ]
    }
   ],
   "source": [
    "df['visitors'][1854] = float('nan')"
   ]
  },
  {
   "cell_type": "markdown",
   "metadata": {},
   "source": [
    "# Plotting the data"
   ]
  },
  {
   "cell_type": "code",
   "execution_count": null,
   "metadata": {},
   "outputs": [],
   "source": [
    "import matplotlib.pyplot as plt\n",
    "import seaborn as sns\n",
    "%matplotlib inline"
   ]
  },
  {
   "cell_type": "code",
   "execution_count": null,
   "metadata": {},
   "outputs": [],
   "source": [
    "sns.barplot(x='budget_status',y='employees',data=df, estimator=np.median)"
   ]
  },
  {
   "cell_type": "code",
   "execution_count": null,
   "metadata": {},
   "outputs": [],
   "source": []
  },
  {
   "cell_type": "code",
   "execution_count": null,
   "metadata": {},
   "outputs": [],
   "source": []
  },
  {
   "cell_type": "code",
   "execution_count": null,
   "metadata": {},
   "outputs": [],
   "source": []
  },
  {
   "cell_type": "markdown",
   "metadata": {},
   "source": [
    "# df_breakdown variables guide\n",
    "\n",
    "| Variable      | Description                                                  |Russian translation|\n",
    "|---------------|:-----                                                        |  |\n",
    "|VRM_link       |A link inside VRM database to access further information      |  |\n",
    "|name           |Name of the organization                                      |  |\n",
    "|address        |Address of the organization                                   |  |\n",
    "|date           |Date of openning of the organization                          |  |\n",
    "|budget_status  |Primary source of budget for the museum | Бюджетный статус, организация, формирующая большую часть бюджета |\n",
    "|c_historical   |w  | Классификация 'историческая'|\n",
    "|c_local_history|w | Классификация 'краеведческая'|\n",
    "|c_art          |w  | Классификация 'художественная'|\n",
    "|c_pers_memorial|w  | Классификация 'персональная или мемориальная'|\n",
    "|c_nat_history  |w  | Классификация 'естественнонаучная'|\n",
    "|c_sci_tech     |w  | Классификация 'науки, техники и отраслей н.х.'|\n",
    "|c_literary     |w  | Классификация 'литературная'|\n",
    "|c_architectural|w  | Классификация 'архитектурно-ансамблевая'|\n",
    "|c_reserve      |w  | Классификация 'музей-заповедник'|\n",
    "|c_musical      |w  | Классификация 'музыкальная'|\n",
    "|c_theatrical   |w  | Классификация 'театральная'|\n",
    "|a_exibition    |w  | Площадь 'экспозиционно-выставочная'|\n",
    "|a_temporary    |w  | Площадь 'временных выставок'|\n",
    "|a_storage      |w  | Площадь 'фондохранилищ'|\n",
    "|a_park         |w  | Площадь 'парковая'|\n",
    "|ot_ncinst      |w  | Организационный тип 'некоммерческое учреждение'|\n",
    "|ot_ncaut       |w  | Организационный тип 'некоммерческая автономная'|\n",
    "|ot_ncpartner   |w  | Организационный тип 'некоммерческое партнерство'|\n",
    "|ot_commercial  |w  | Организационный тип 'коммерческая организация'|\n",
    "|visitors       |w  | Количество посетителей в год|\n",
    "|employees      |w  | Количество сотрудников|\n",
    "|storage        |w  | Единиц хранения|\n",
    "|year_founded   |w  | Год основания|"
   ]
  },
  {
   "cell_type": "code",
   "execution_count": null,
   "metadata": {},
   "outputs": [],
   "source": [
    "orgstat_names = ['некоммерческое учреждение', 'некоммерческая автономная', 'некоммерческое партнерство',\n",
    "                 'коммерческая организация']"
   ]
  },
  {
   "cell_type": "code",
   "execution_count": null,
   "metadata": {},
   "outputs": [],
   "source": [
    "orgstat_vars = ['ot_ncinst', 'ot_ncaut', 'ot_ncpartner', 'ot_commercial']"
   ]
  }
 ],
 "metadata": {
  "kernelspec": {
   "display_name": "Python 3",
   "language": "python",
   "name": "python3"
  },
  "language_info": {
   "codemirror_mode": {
    "name": "ipython",
    "version": 3
   },
   "file_extension": ".py",
   "mimetype": "text/x-python",
   "name": "python",
   "nbconvert_exporter": "python",
   "pygments_lexer": "ipython3",
   "version": "3.7.3"
  }
 },
 "nbformat": 4,
 "nbformat_minor": 2
}
